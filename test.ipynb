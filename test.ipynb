{
 "cells": [
  {
   "cell_type": "code",
   "execution_count": 2,
   "source": [
    "from sqlalchemy import MetaData,create_engine, Table\n",
    "from sqlalchemy.sql import select\n",
    "metadata = MetaData()\n",
    "engine = create_engine(\"sqlite:///memory.db\")\n",
    "usertable= Table('User',metadata, autoload=True, autoload_with=engine)\n"
   ],
   "outputs": [],
   "metadata": {}
  },
  {
   "cell_type": "code",
   "execution_count": 8,
   "source": [
    "s = select(usertable)\n",
    "with engine.connect() as conn:\n",
    "   res = conn.execute(s)\n",
    "   for r in res:\n",
    "      print(r)"
   ],
   "outputs": [
    {
     "output_type": "stream",
     "name": "stdout",
     "text": [
      "None\n"
     ]
    }
   ],
   "metadata": {}
  },
  {
   "cell_type": "code",
   "execution_count": null,
   "source": [],
   "outputs": [],
   "metadata": {}
  }
 ],
 "metadata": {
  "orig_nbformat": 4,
  "language_info": {
   "name": "python",
   "version": "3.9.7",
   "mimetype": "text/x-python",
   "codemirror_mode": {
    "name": "ipython",
    "version": 3
   },
   "pygments_lexer": "ipython3",
   "nbconvert_exporter": "python",
   "file_extension": ".py"
  },
  "kernelspec": {
   "name": "python3",
   "display_name": "Python 3.9.7 64-bit ('rogue': conda)"
  },
  "interpreter": {
   "hash": "833e6ca591961f4d0cd9106aff853b2ccfff7dea8f1c99693f257ae1963993ab"
  }
 },
 "nbformat": 4,
 "nbformat_minor": 2
}